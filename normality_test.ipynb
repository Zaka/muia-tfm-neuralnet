{
 "cells": [
  {
   "cell_type": "code",
   "execution_count": 1,
   "metadata": {
    "autoscroll": "json-false",
    "collapsed": false,
    "ein.tags": [
     "worksheet-0"
    ]
   },
   "outputs": [],
   "source": [
    "%matplotlib inline\n",
    "import numpy as np\n",
    "np.random.seed(12345678)  #fix random seed to get the same result\n",
    "import pandas as pd\n",
    "import matplotlib\n",
    "import matplotlib.pyplot as plt\n",
    "import scipy\n",
    "from scipy import stats\n",
    "import locale\n",
    "locale.setlocale(locale.LC_ALL, \"en_US.UTF-8\")\n",
    "\n",
    "df_rnn = pd.read_csv(\"output_wfss_rnn.csv\")\n",
    "df_var = pd.read_csv(\"output_var.csv\")\n",
    "df_market_price = pd.read_csv(\"market_price.csv\")\n",
    "df_market_price = df_market_price[1095:]\n",
    "df_var = df_var[1095:]\n",
    "df_rnn = df_rnn[1095:]\n",
    "df_error_var = pd.DataFrame(df_market_price['MarketPrice'] - df_var['VAR-Prediction'])\n",
    "df_error_rnn = pd.DataFrame(df_market_price['MarketPrice'] - df_rnn['RNN-Prediction'])"
   ]
  },
  {
   "cell_type": "code",
   "execution_count": 2,
   "metadata": {
    "autoscroll": "json-false",
    "collapsed": false,
    "ein.tags": [
     "worksheet-0"
    ]
   },
   "outputs": [
    {
     "name": "stdout",
     "output_type": "stream",
     "text": [
      "SkewtestResult(statistic=-23.337180936416967, pvalue=1.8599268593336416e-120)\n",
      "SkewtestResult(statistic=41.342646470447733, pvalue=0.0)\n"
     ]
    }
   ],
   "source": [
    "# Tests whether the skew is different from the normal distribution.\n",
    "\n",
    "# This function tests the null hypothesis that the skewness of the\n",
    "# population that the sample was drawn from is the same as that of a\n",
    "# corresponding normal distribution.\n",
    "# Reference:\n",
    "# Zwillinger, D. and Kokoska, S. (2000). CRC Standard Probability and\n",
    "# Statistics Tables and Formulae. Chapman & Hall: New York. 2000.\n",
    "# Section 2.2.24.1\n",
    "print(stats.skewtest(df_error_var[0].values))\n",
    "print(stats.skewtest(df_error_rnn[0].values))"
   ]
  },
  {
   "cell_type": "code",
   "execution_count": 3,
   "metadata": {
    "autoscroll": "json-false",
    "collapsed": false,
    "ein.tags": [
     "worksheet-0"
    ]
   },
   "outputs": [
    {
     "name": "stdout",
     "output_type": "stream",
     "text": [
      "KurtosistestResult(statistic=21.335282676264551, pvalue=5.342066207525857e-101)\n",
      "KurtosistestResult(statistic=25.096825952200398, pvalue=5.3864003813102725e-139)\n"
     ]
    }
   ],
   "source": [
    "# Tests whether a dataset has normal kurtosis\n",
    "\n",
    "# This function tests the null hypothesis that the kurtosis of the\n",
    "# population from which the sample was drawn is that of the normal\n",
    "# distribution: kurtosis = 3(n-1)/(n+1).\n",
    "\n",
    "# Zwillinger, D. and Kokoska, S. (2000). CRC Standard Probability and\n",
    "# Statistics Tables and Formulae. Chapman & Hall: New York. 2000.\n",
    "\n",
    "print(stats.kurtosistest(df_error_var[0].values))\n",
    "print(stats.kurtosistest(df_error_rnn[0].values))"
   ]
  },
  {
   "cell_type": "code",
   "execution_count": 16,
   "metadata": {
    "autoscroll": "json-false",
    "collapsed": false,
    "ein.tags": [
     "worksheet-0"
    ]
   },
   "outputs": [
    {
     "name": "stdout",
     "output_type": "stream",
     "text": [
      "KurtosistestResult(statistic=-1.1907927330243333, pvalue=0.23373496241705449)\n"
     ]
    }
   ],
   "source": [
    "print(stats.kurtosistest(stats.norm.rvs(0, 1, 1000)))"
   ]
  },
  {
   "cell_type": "code",
   "execution_count": 4,
   "metadata": {
    "autoscroll": "json-false",
    "collapsed": false,
    "ein.tags": [
     "worksheet-0"
    ]
   },
   "outputs": [
    {
     "name": "stdout",
     "output_type": "stream",
     "text": [
      "NormaltestResult(statistic=999.81830093517783, pvalue=7.8021536543240686e-218)\n",
      "NormaltestResult(statistic=2339.0650900554638, pvalue=0.0)\n"
     ]
    }
   ],
   "source": [
    "# Tests whether a sample differs from a normal distribution.\n",
    "\n",
    "# This function tests the null hypothesis that a sample comes from a\n",
    "# normal distribution. It is based on D’Agostino and Pearson’s [R421],\n",
    "# [R422] test that combines skew and kurtosis to produce an omnibus\n",
    "# test of normality.\n",
    "\n",
    "# D’Agostino, R. B. (1971), “An omnibus test of normality for\n",
    "# moderate and large sample size,” Biometrika, 58, 341-348\n",
    "# D’Agostino, R. and Pearson, E. S. (1973), “Testing for\n",
    "# departures from normality,” Biometrika, 60, 613-622\n",
    "print(stats.normaltest(df_error_var[0].values))\n",
    "print(stats.normaltest(df_error_rnn[0].values))"
   ]
  },
  {
   "cell_type": "code",
   "execution_count": 0,
   "metadata": {
    "autoscroll": "json-false",
    "collapsed": false,
    "ein.tags": [
     "worksheet-0"
    ]
   },
   "outputs": [],
   "source": []
  }
 ],
 "metadata": {
  "kernelspec": {
   "display_name": "Python [py3k]",
   "name": "Python [py3k]"
  },
  "name": "normality_test.ipynb"
 },
 "nbformat": 4,
 "nbformat_minor": 0
}
